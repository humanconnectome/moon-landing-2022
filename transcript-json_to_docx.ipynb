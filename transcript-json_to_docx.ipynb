{
 "cells": [
  {
   "cell_type": "code",
   "execution_count": 1,
   "outputs": [],
   "source": [
    "from docx import Document\n",
    "from pathlib import Path\n",
    "import json\n",
    "from datetime import datetime"
   ],
   "metadata": {
    "collapsed": false,
    "pycharm": {
     "name": "#%%\n"
    }
   }
  },
  {
   "cell_type": "code",
   "execution_count": 12,
   "outputs": [],
   "source": [
    "parent_dir = Path('./')\n",
    "working_dir = parent_dir / 'data'\n",
    "output_dir = parent_dir / 'output'\n",
    "\n",
    "# Create directories if they don't exist\n",
    "working_dir.mkdir(exist_ok=True)\n",
    "output_dir.mkdir(exist_ok=True)"
   ],
   "metadata": {
    "collapsed": false,
    "pycharm": {
     "name": "#%%\n"
    }
   }
  },
  {
   "cell_type": "code",
   "execution_count": 13,
   "outputs": [],
   "source": [
    "def iter_segments(json_obj, interval_length=5 * 60):\n",
    "    start_range = 0\n",
    "    end_range = interval_length\n",
    "    segment_text = []\n",
    "\n",
    "    for result in json_obj['results']:\n",
    "        end_time = float(result['resultEndTime'][:-1])\n",
    "        text = ''.join([\n",
    "            x.get('transcript', '')\n",
    "            for x in result['alternatives']\n",
    "            if 'transcript' in x\n",
    "        ])\n",
    "\n",
    "        # Ignore empty text\n",
    "        if not text:\n",
    "            continue\n",
    "\n",
    "        # If within time range, add to segment\n",
    "        if start_range < end_time < end_range:\n",
    "            segment_text.append(text)\n",
    "\n",
    "        else:\n",
    "            # Yield segment\n",
    "            yield segment_text, start_range, end_range\n",
    "\n",
    "            # Reset segment\n",
    "            start_range = end_range\n",
    "            end_range += interval_length\n",
    "            segment_text = [text]\n",
    "\n",
    "    # Yield last segment\n",
    "    yield segment_text, start_range, end_range"
   ],
   "metadata": {
    "collapsed": false,
    "pycharm": {
     "name": "#%%\n"
    }
   }
  },
  {
   "cell_type": "code",
   "execution_count": 14,
   "outputs": [],
   "source": [
    "def trim_time(t, divisor=60):\n",
    "    return (t // divisor) % divisor"
   ],
   "metadata": {
    "collapsed": false,
    "pycharm": {
     "name": "#%%\n"
    }
   }
  },
  {
   "cell_type": "code",
   "execution_count": 15,
   "outputs": [],
   "source": [
    "def to_time_str(time_in_sec):\n",
    "    timestamp = datetime(year=2000, month=1, day=1,\n",
    "                         hour=trim_time(time_in_sec, 3600),\n",
    "                         minute=trim_time(time_in_sec, 60),\n",
    "                         second=int(time_in_sec % 60))\n",
    "    ts_string = timestamp.strftime('%H:%M:%S')\n",
    "    return ts_string"
   ],
   "metadata": {
    "collapsed": false,
    "pycharm": {
     "name": "#%%\n"
    }
   }
  },
  {
   "cell_type": "code",
   "execution_count": 18,
   "outputs": [
    {
     "name": "stdout",
     "output_type": "stream",
     "text": [
      "../data/transcripts_Chip.ZFS-Server-Installation-&-Configuration.Part01.m4a-20220506014835.json\n",
      "../data/transcripts_Chip.Active-Directory-Group-Management.m4a-20220506032909.json\n",
      "../data/transcripts_Chip.Puppet-deploy-walkthrough.m4a-20220506024121.json\n"
     ]
    }
   ],
   "source": [
    "for file in working_dir.glob('*.m4a-[0-9]*.json'):\n",
    "    print(file)\n",
    "    doc = Document()\n",
    "    doc.add_heading(file.stem, 0)\n",
    "\n",
    "    json_obj = json.loads(file.read_text())\n",
    "    for segment_text, start_range, end_range in iter_segments(json_obj):\n",
    "\n",
    "        doc.add_page_break()\n",
    "\n",
    "        # Add time stamp as section header\n",
    "        time_str = to_time_str(start_range)\n",
    "        h1 = doc.add_heading(time_str, 1)\n",
    "\n",
    "        # Metadata on volunteer/status of segment\n",
    "        h2 = doc.add_heading('Volunteer:', 2)\n",
    "        h2.bold = True\n",
    "        h2.add_run(' Unassigned, ').bold = False\n",
    "        h2.add_run('Status:').bold = True\n",
    "        h2.add_run(' Incomplete').bold = False\n",
    "\n",
    "        # Add each chunk from segment as a new paragraph\n",
    "        for text in segment_text:\n",
    "            doc.add_paragraph(text)\n",
    "\n",
    "        # Save to output directory\n",
    "        doc.save(output_dir / f'{file.stem}.docx')\n"
   ],
   "metadata": {
    "collapsed": false,
    "pycharm": {
     "name": "#%%\n"
    }
   }
  },
  {
   "cell_type": "code",
   "execution_count": null,
   "outputs": [],
   "source": [],
   "metadata": {
    "collapsed": false,
    "pycharm": {
     "name": "#%%\n"
    }
   }
  }
 ],
 "metadata": {
  "kernelspec": {
   "display_name": "Python 3",
   "language": "python",
   "name": "python3"
  },
  "language_info": {
   "codemirror_mode": {
    "name": "ipython",
    "version": 2
   },
   "file_extension": ".py",
   "mimetype": "text/x-python",
   "name": "python",
   "nbconvert_exporter": "python",
   "pygments_lexer": "ipython2",
   "version": "2.7.6"
  }
 },
 "nbformat": 4,
 "nbformat_minor": 0
}